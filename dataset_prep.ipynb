{
 "cells": [
  {
   "cell_type": "code",
   "execution_count": 1,
   "metadata": {},
   "outputs": [],
   "source": [
    "#importing the essentials\n",
    "import pandas as pd\n",
    "import matplotlib.pyplot as plt\n",
    "import numpy as np"
   ]
  },
  {
   "cell_type": "code",
   "execution_count": 2,
   "metadata": {},
   "outputs": [],
   "source": [
    "#the path to each file\n",
    "dr='dataset\\SCG_b6\\\\'\n",
    "mean_file='v2_26052020_mean_IM_marked.csv'\n",
    "amp_a_file='SCG_b6_AOpeak_a.csv'\n",
    "index_a_file='SCG_b6_AOpeak_i.csv'"
   ]
  },
  {
   "cell_type": "code",
   "execution_count": 4,
   "metadata": {},
   "outputs": [],
   "source": [
    "#to open the files\n",
    "mean=open(dr+mean_file,'r')\n",
    "amp=open(dr+amp_a_file,'r')\n",
    "index=open(dr+index_a_file,'r')"
   ]
  },
  {
   "cell_type": "code",
   "execution_count": 7,
   "metadata": {},
   "outputs": [
    {
     "data": {
      "text/plain": [
       "\"ind=[]    \\nfor i in index.read().split('\\n'):\\n    if '' != i:\\n        g=i.split('+')\\n        g=float(g[0][:-1])*(10**int(g[1]))\\n        ind.append(int(g))\""
      ]
     },
     "execution_count": 7,
     "metadata": {},
     "output_type": "execute_result"
    }
   ],
   "source": [
    "#getting the data and converting it to the required format and storing in the variables\n",
    "mn=[]\n",
    "for i in mean.read().split('\\n'):\n",
    "    if i != '':\n",
    "        mn.append([float(i.split('e')[0])/10,0])\n",
    "ampl=[]\n",
    "for i in amp.read().split('\\n'):\n",
    "    if i != '':\n",
    "        ampl.append(float(i.split('e')[0])/10)\n",
    "ind=[]    \n",
    "for i in index.read().split('\\n'):\n",
    "    if '' != i:\n",
    "        g=i.split('+')\n",
    "        g=float(g[0][:-1])*(10**int(g[1]))\n",
    "        ind.append(int(g))"
   ]
  },
  {
   "cell_type": "code",
   "execution_count": 8,
   "metadata": {},
   "outputs": [],
   "source": [
    "#rounding the values for 6 digits for better caluculation\n",
    "mn1=[]\n",
    "for i in mn:\n",
    "    mn1.append([round(i[0],6),i[1]])\n",
    "mn=list(mn1)\n",
    "ampl2=[]\n",
    "for i in ampl:\n",
    "    ampl2.append(round(i,6))\n",
    "ampl=list(ampl2)    "
   ]
  },
  {
   "cell_type": "code",
   "execution_count": 317,
   "metadata": {},
   "outputs": [
    {
     "data": {
      "text/plain": [
       "[[0.772846, 0],\n",
       " [0.725053, 0],\n",
       " [0.770262, 0],\n",
       " [0.786542, 0],\n",
       " [0.82042, 0],\n",
       " [0.805318, 0],\n",
       " [0.827602, 0],\n",
       " [0.76948, 0],\n",
       " [0.747926, 0],\n",
       " [0.711164, 0]]"
      ]
     },
     "execution_count": 317,
     "metadata": {},
     "output_type": "execute_result"
    }
   ],
   "source": [
    "#converting the amplitude into tuple for marking \n",
    "ampl1=[]\n",
    "for i in ampl:\n",
    "    ampl1.append([i,0])\n",
    "ampl1[0:10]    "
   ]
  },
  {
   "cell_type": "code",
   "execution_count": 319,
   "metadata": {},
   "outputs": [
    {
     "data": {
      "text/plain": [
       "291"
      ]
     },
     "execution_count": 319,
     "metadata": {},
     "output_type": "execute_result"
    }
   ],
   "source": [
    "#counting the AO point\n",
    "count=0\n",
    "for i in ampl1:\n",
    "    if i in mn1:\n",
    "        count+=1\n",
    "count        "
   ]
  },
  {
   "cell_type": "code",
   "execution_count": 320,
   "metadata": {},
   "outputs": [
    {
     "name": "stdout",
     "output_type": "stream",
     "text": [
      "no of values present : 564\n",
      "no of values missing : 1499436\n"
     ]
    }
   ],
   "source": [
    "#marking the IM point in the data\n",
    "my=0\n",
    "yes=0\n",
    "jk=[]\n",
    "o=len(mn)\n",
    "for i in range(o):\n",
    "    if mn[i] in ampl1 and ({(i+1)%100000 in ind} or {i%100000 in ind} or {(i-1)%100000 in ind}):\n",
    "        my+=1\n",
    "        mn[i][1]=1\n",
    "        jk.append(mn1[i][0])\n",
    "    else:\n",
    "        yes+=1\n",
    "print(\"no of values present : \"+str(my))\n",
    "print(\"no of values missing : \"+str(yes))"
   ]
  },
  {
   "cell_type": "code",
   "execution_count": 26,
   "metadata": {},
   "outputs": [
    {
     "name": "stdout",
     "output_type": "stream",
     "text": [
      "1500000\n",
      "291\n"
     ]
    }
   ],
   "source": [
    "#TO find the repeated values\n",
    "repeat=[]\n",
    "rp=[]\n",
    "index_repeat=[]\n",
    "o=len(mn)\n",
    "print(o)\n",
    "for i in range(o):\n",
    "    if mn[i][0] in ampl:\n",
    "        if mn[i][0] not in rp and mn[i][1]==1:\n",
    "            rp.append(mn[i][0])\n",
    "            repeat.append([mn[i][0],1,[i+1]])\n",
    "        elif mn[i][1]==1:\n",
    "            for jh in range(len(repeat)):\n",
    "                if repeat[jh][0]==mn[i][0] and mn[i][1]==1:\n",
    "                    repeat[jh][1]+=1\n",
    "                    repeat[jh][2].append(i+1)\n",
    "print(len(repeat))"
   ]
  },
  {
   "cell_type": "code",
   "execution_count": 27,
   "metadata": {},
   "outputs": [
    {
     "name": "stdout",
     "output_type": "stream",
     "text": [
      "0\n"
     ]
    }
   ],
   "source": [
    "#To find the repeated values which are repeated and also near to each other\n",
    "true_rep=[]\n",
    "for i in repeat:\n",
    "    if i[1] >1:\n",
    "        true_rep.append(i)\n",
    "print(len(true_rep)) "
   ]
  },
  {
   "cell_type": "code",
   "execution_count": 20,
   "metadata": {},
   "outputs": [
    {
     "name": "stdout",
     "output_type": "stream",
     "text": [
      "finished\n"
     ]
    }
   ],
   "source": [
    "#to find the values which should be deleted\n",
    "to_be_discarded=[]\n",
    "for i in true_rep:\n",
    "    j=i[2]\n",
    "    j=list(set(j).difference(set([max((j))])))\n",
    "    to_be_discarded+=j\n",
    "print(\"finished\")    "
   ]
  },
  {
   "cell_type": "code",
   "execution_count": 24,
   "metadata": {},
   "outputs": [],
   "source": [
    "#deleting the values which are repeated\n",
    "for i in to_be_discarded:\n",
    "    mn[i-1][1]=0"
   ]
  },
  {
   "cell_type": "code",
   "execution_count": 418,
   "metadata": {},
   "outputs": [
    {
     "data": {
      "text/plain": [
       "232"
      ]
     },
     "execution_count": 418,
     "metadata": {},
     "output_type": "execute_result"
    }
   ],
   "source": [
    "all_index=[]\n",
    "for i in true_rep:\n",
    "    all_index.extend(i[2])\n",
    "len(all_index)"
   ]
  },
  {
   "cell_type": "code",
   "execution_count": 419,
   "metadata": {},
   "outputs": [
    {
     "name": "stdout",
     "output_type": "stream",
     "text": [
      "[875198, 1365999, 476741, 283106, 67308, 55911, 55912, 55913, 55914, 77089, 82023, 96981, 781504, 158513, 163027, 163028, 172324, 183528, 183529, 189352, 189353, 251740, 879635, 256962, 256963, 262049, 266574, 266575, 271601, 1469356, 1483453, 298868, 562919, 485973, 683358, 351400, 360641, 365806, 370279, 374525, 1193544, 379108, 379109, 1083616, 1083617, 387752, 387753, 392962, 392963, 481512, 466371, 964671, 698970, 698971, 445562, 445563, 451151, 456350, 456351, 1172748, 496161, 794965, 794966, 896756, 568118, 892362, 1255096, 613739, 613740, 1374933, 887983, 887984, 883830, 654240, 658740, 668243, 672875, 677975, 677976, 1465174, 1465175, 1188358, 1152712, 994910, 762136, 776518, 776519, 860648, 860649, 870666, 1383773, 954417, 954418, 959674, 974919, 979978, 979979, 1161895, 1097548, 1056095, 1056096, 1092751, 1069418, 1387869, 1157105, 1270622, 1478637, 1285074, 1285075, 1352178]\n"
     ]
    }
   ],
   "source": [
    "#to find all the indexes of amplitudes which are down peaks\n",
    "findout=[]\n",
    "for i in all_index:\n",
    "    if max(mn[i-4][0],mn[i-3][0],mn[i-2][0],mn[i-1][0])==mn[i-1][0]:\n",
    "        if max(mn[i-1][0],mn[i][0],mn[i+1][0],mn[i+2][0])==mn[i-1][0]:\n",
    "            findout.append(i)\n",
    "print(findout)"
   ]
  },
  {
   "cell_type": "code",
   "execution_count": 429,
   "metadata": {},
   "outputs": [
    {
     "name": "stdout",
     "output_type": "stream",
     "text": [
      "finished\n",
      "1500000\n",
      "291\n"
     ]
    }
   ],
   "source": [
    "#finding the values which are not repeated and refining the data\n",
    "mn12=list(mn)\n",
    "for i in fall:\n",
    "    mn12[i-1][1]=0\n",
    "print('finished')    \n",
    "repeat=[]\n",
    "rp=[]\n",
    "index_repeat=[]\n",
    "o=len(mn12)\n",
    "print(o)\n",
    "for i in range(o):\n",
    "    if mn12[i][0] in ampl:\n",
    "        if mn12[i][0] not in rp and mn12[i][1]==1:\n",
    "            rp.append(mn12[i][0])\n",
    "            repeat.append([mn12[i][0],1,[i+1]])\n",
    "        elif mn12[i][1]==1:\n",
    "            for jh in range(len(repeat)):\n",
    "                if repeat[jh][0]==mn12[i][0] and mn12[i][1]==1:\n",
    "                    repeat[jh][1]+=1\n",
    "                    repeat[jh][2].append(i+1)\n",
    "print(len(repeat))"
   ]
  },
  {
   "cell_type": "code",
   "execution_count": 428,
   "metadata": {},
   "outputs": [
    {
     "name": "stdout",
     "output_type": "stream",
     "text": [
      "[26764, 461150, 1488288, 26817, 496165, 887992, 31658, 1046607, 604456, 31675, 1060391, 31740, 809244, 1102414, 429494, 1456433, 742538, 123857, 658717, 668270, 641533, 590771, 1083701, 1446916, 1451623, 875260, 888042, 251811, 481548, 883805, 930849, 374499, 1460949, 819097, 408361, 1408614, 271622, 1127931, 298844, 688569, 326772, 332157, 342592, 1383787, 1037172, 1088149, 1483482, 1112050, 618078, 1417119, 1461003, 374539, 668292, 383479, 1361685, 1314620, 419053, 424393, 980011, 875193, 429466, 429501, 1069401, 1347522, 637219, 1083631, 1379531, 622740, 1383796, 476762, 1396316, 737661, 515507, 554099, 1473858, 1421078, 568123, 1469350, 627540, 604414, 1157099, 618060, 781506, 1152739, 1023174, 618071, 622675, 1314613, 1032800, 1387894, 1117472, 974955, 1051507, 1290070, 870682, 693902, 1046589, 713783, 728196, 985021, 737642, 887979, 1314684, 1088143, 1465206, 1255089, 922850, 1074254, 1083587, 1051451, 1013780, 1157101, 1198246, 1051488, 1239562, 1056098, 1338461, 1152707, 1417120, 1198200, 1208001, 1285107]\n"
     ]
    }
   ],
   "source": [
    "fall=[]\n",
    "for i in true_rep:\n",
    "    gfd=list(set(i[2]).difference(set(findout)))\n",
    "    if list(i[2])!=list(gfd) and len(gfd)>0:\n",
    "        fall.extend(gfd)\n",
    "print(fall)"
   ]
  },
  {
   "cell_type": "code",
   "execution_count": 391,
   "metadata": {},
   "outputs": [
    {
     "name": "stdout",
     "output_type": "stream",
     "text": [
      "[12121, 26833, 61644, 61717, 72437, 123850, 158532, 231508, 241637, 241656, 277431, 283112, 298913, 332178, 337524, 374549, 398464, 424435, 490870, 544662, 568128, 568135, 604395, 609266, 618086, 622761, 641585, 668253, 703798, 703816, 747688, 752421, 752496, 762120, 954437, 979957, 1018294, 1143330, 1152709]\n"
     ]
    }
   ],
   "source": [
    "#to find the indexes whic are to be deleted due to repeated values\n",
    "to_do=[]\n",
    "for i in true_rep:\n",
    "    for j in i[2]:\n",
    "        if j%100000 in ind or j-1%100000 in ind or j+1%100000 in ind:\n",
    "            to_do=to_do+list(set(i[2]).difference(set([j])))\n",
    "print(to_do)            "
   ]
  },
  {
   "cell_type": "code",
   "execution_count": 392,
   "metadata": {},
   "outputs": [
    {
     "name": "stdout",
     "output_type": "stream",
     "text": [
      "finished\n"
     ]
    }
   ],
   "source": [
    "#deleting the values\n",
    "for i in to_do:\n",
    "    mn[i-1][1]=0\n",
    "print('finished')"
   ]
  },
  {
   "cell_type": "code",
   "execution_count": null,
   "metadata": {},
   "outputs": [],
   "source": [
    "#to count the value which are in the amplitude\n",
    "count=0\n",
    "for i in list(index_a_file['index']):\n",
    "    if mn[i] in ampl:\n",
    "        count+=1\n",
    "print(count)        "
   ]
  },
  {
   "cell_type": "code",
   "execution_count": 432,
   "metadata": {},
   "outputs": [
    {
     "name": "stdout",
     "output_type": "stream",
     "text": [
      "finished\n"
     ]
    }
   ],
   "source": [
    "#for exporting the values\n",
    "fp=open(dr+'v3_rectified_24052020_mean_a_marked.csv','w')\n",
    "for i in mn12:\n",
    "    fp.write(str(i[0])+','+str(i[1])+'\\n')\n",
    "print('finished')"
   ]
  },
  {
   "cell_type": "code",
   "execution_count": 433,
   "metadata": {},
   "outputs": [],
   "source": [
    "fp.close()"
   ]
  },
  {
   "cell_type": "code",
   "execution_count": 5,
   "metadata": {},
   "outputs": [],
   "source": [
    "#reading the data\n",
    "fp=open(,'r')\n",
    "m=fp.read().split('\\n')\n",
    "m=m[:-1]\n",
    "mn=[]\n",
    "for i in m:\n",
    "    j=i.split(',')\n",
    "    mn.append([float(j[0].split('+')[0]),int(j[1])])"
   ]
  },
  {
   "cell_type": "code",
   "execution_count": 15,
   "metadata": {},
   "outputs": [
    {
     "name": "stdout",
     "output_type": "stream",
     "text": [
      "finished\n"
     ]
    }
   ],
   "source": [
    "#to convert the data to the correct format\n",
    "dir='dataset/other_data/mohit.csv'\n",
    "fp=open(dir,'r')\n",
    "data=[]\n",
    "for i in fp.read().split('\\n'):\n",
    "    if i !='' :\n",
    "        j=i.split(',')\n",
    "        if j[0]!='amp':\n",
    "            data.append([round(float(j[0]),6),int(j[1])])\n",
    "print('finished')"
   ]
  },
  {
   "cell_type": "code",
   "execution_count": 16,
   "metadata": {},
   "outputs": [],
   "source": [
    "#copying the data\n",
    "mn=list(data)"
   ]
  },
  {
   "cell_type": "code",
   "execution_count": 483,
   "metadata": {},
   "outputs": [],
   "source": [
    "fp.close()"
   ]
  },
  {
   "cell_type": "code",
   "execution_count": 18,
   "metadata": {},
   "outputs": [],
   "source": [
    "#reversing the data\n",
    "mn_rev=mn[::-1]"
   ]
  },
  {
   "cell_type": "code",
   "execution_count": 10,
   "metadata": {},
   "outputs": [],
   "source": [
    "#getting the copy incase of errors\n",
    "mn_rev_copy=list(mn_rev)"
   ]
  },
  {
   "cell_type": "code",
   "execution_count": 21,
   "metadata": {},
   "outputs": [
    {
     "name": "stdout",
     "output_type": "stream",
     "text": [
      "finished marking\n",
      "211\n"
     ]
    }
   ],
   "source": [
    "#marking the IM values\n",
    "o=len(mn_rev)\n",
    "i=0\n",
    "while(i<=o-1):\n",
    "    if mn_rev[i][1]==1:\n",
    "        while(mn_rev[i]>=mn_rev[i+1]):\n",
    "            i+=1\n",
    "        mn_rev[i][1]=2\n",
    "    i+=1\n",
    "print('finished marking')\n",
    "count=0\n",
    "for i in mn_rev:\n",
    "    if i[1]==2:\n",
    "        count+=1\n",
    "print(count)"
   ]
  },
  {
   "cell_type": "code",
   "execution_count": 491,
   "metadata": {},
   "outputs": [],
   "source": [
    "#re-converting to previous state\n",
    "m=mn_rev[::-1]"
   ]
  },
  {
   "cell_type": "code",
   "execution_count": 22,
   "metadata": {},
   "outputs": [
    {
     "ename": "NameError",
     "evalue": "name 'dr' is not defined",
     "output_type": "error",
     "traceback": [
      "\u001b[1;31m---------------------------------------------------------------------------\u001b[0m",
      "\u001b[1;31mNameError\u001b[0m                                 Traceback (most recent call last)",
      "\u001b[1;32m<ipython-input-22-ec60cc93f0e3>\u001b[0m in \u001b[0;36m<module>\u001b[1;34m\u001b[0m\n\u001b[1;32m----> 1\u001b[1;33m \u001b[0mfp\u001b[0m\u001b[1;33m=\u001b[0m\u001b[0mopen\u001b[0m\u001b[1;33m(\u001b[0m\u001b[0mdr\u001b[0m\u001b[1;33m+\u001b[0m\u001b[1;34m'v2_mohit_IM_marked'\u001b[0m\u001b[1;33m,\u001b[0m\u001b[1;34m'r'\u001b[0m\u001b[1;33m)\u001b[0m\u001b[1;33m\u001b[0m\u001b[1;33m\u001b[0m\u001b[0m\n\u001b[0m\u001b[0;32m      2\u001b[0m \u001b[0mm\u001b[0m\u001b[1;33m=\u001b[0m\u001b[0mfp\u001b[0m\u001b[1;33m.\u001b[0m\u001b[0mread\u001b[0m\u001b[1;33m(\u001b[0m\u001b[1;33m)\u001b[0m\u001b[1;33m.\u001b[0m\u001b[0msplit\u001b[0m\u001b[1;33m(\u001b[0m\u001b[1;34m'\\n'\u001b[0m\u001b[1;33m)\u001b[0m\u001b[1;33m\u001b[0m\u001b[1;33m\u001b[0m\u001b[0m\n\u001b[0;32m      3\u001b[0m \u001b[0mm\u001b[0m\u001b[1;33m=\u001b[0m\u001b[0mm\u001b[0m\u001b[1;33m[\u001b[0m\u001b[1;33m:\u001b[0m\u001b[1;33m-\u001b[0m\u001b[1;36m1\u001b[0m\u001b[1;33m]\u001b[0m\u001b[1;33m\u001b[0m\u001b[1;33m\u001b[0m\u001b[0m\n\u001b[0;32m      4\u001b[0m \u001b[0mmn_marked\u001b[0m\u001b[1;33m=\u001b[0m\u001b[1;33m[\u001b[0m\u001b[1;33m]\u001b[0m\u001b[1;33m\u001b[0m\u001b[1;33m\u001b[0m\u001b[0m\n\u001b[0;32m      5\u001b[0m \u001b[1;32mfor\u001b[0m \u001b[0mi\u001b[0m \u001b[1;32min\u001b[0m \u001b[0mm\u001b[0m\u001b[1;33m:\u001b[0m\u001b[1;33m\u001b[0m\u001b[1;33m\u001b[0m\u001b[0m\n",
      "\u001b[1;31mNameError\u001b[0m: name 'dr' is not defined"
     ]
    }
   ],
   "source": [
    "#exporting the data\n",
    "fp=open('v2_mohit_IM_marked','r')\n",
    "m=fp.read().split('\\n')\n",
    "m=m[:-1]\n",
    "mn_marked=[]\n",
    "for i in m:\n",
    "    j=i.split(',')\n",
    "    mn_marked.append([float(j[0].split('+')[0]),int(j[1])])"
   ]
  },
  {
   "cell_type": "code",
   "execution_count": 23,
   "metadata": {},
   "outputs": [
    {
     "name": "stdout",
     "output_type": "stream",
     "text": [
      "finished\n"
     ]
    }
   ],
   "source": [
    "#exporting the data\n",
    "fp=open('dataset/other_data/v3_mohit_IM.csv','w')\n",
    "mn=mn_rev[::-1]\n",
    "for i in mn:\n",
    "    fp.write(str(i[0])+','+str(i[1])+'\\n')\n",
    "print('finished')\n",
    "fp.close()"
   ]
  },
  {
   "cell_type": "code",
   "execution_count": 10,
   "metadata": {},
   "outputs": [],
   "source": [
    "#getting the index and amplitude of IC and AO values\n",
    "IC_index=[]\n",
    "IC_value=[]\n",
    "AO_index=[]\n",
    "AO_value=[]\n",
    "for i in range(len(mn_marked)):\n",
    "    if mn_marked[i][1]==2:\n",
    "        IC_index.append(i)\n",
    "        IC_value.append(mn_marked[i][0])\n",
    "    elif mn_marked[i][1]==1:\n",
    "        AO_index.append(i)\n",
    "        AO_value.append(mn_marked[i][0])"
   ]
  },
  {
   "cell_type": "code",
   "execution_count": 12,
   "metadata": {},
   "outputs": [
    {
     "name": "stdout",
     "output_type": "stream",
     "text": [
      "2726 2869\n"
     ]
    }
   ],
   "source": [
    "print(IC_index[0],AO_index[0])"
   ]
  },
  {
   "cell_type": "code",
   "execution_count": 29,
   "metadata": {},
   "outputs": [
    {
     "data": {
      "image/png": "[encoded data removed]",
      "text/plain": [
       "<Figure size 432x288 with 1 Axes>"
      ]
     },
     "metadata": {
      "needs_background": "light"
     },
     "output_type": "display_data"
    }
   ],
   "source": [
    "#plotting the values\n",
    "j=list(mn_marked)\n",
    "h=[]\n",
    "for i in j[0:AO_index[1]+200]:\n",
    "    h.append(i[0])\n",
    "plt.plot(range(len(h)),h,color='r')\n",
    "plt.scatter(IC_index[0:1],IC_value[0:1],color='black')\n",
    "plt.scatter(AO_index[0:1],AO_value[0:1],color='blue')\n",
    "\n",
    "plt.show()"
   ]
  },
  {
   "cell_type": "code",
   "execution_count": 457,
   "metadata": {},
   "outputs": [
    {
     "name": "stdout",
     "output_type": "stream",
     "text": [
      "finished\n",
      "finished\n"
     ]
    }
   ],
   "source": [
    "#exporting the values\n",
    "fp=open(dr+'v1_25052020_mean_IC_marked_first_half.csv','w')\n",
    "for i in mn_marked[0:int(len(mn_marked)/2)]:\n",
    "    fp.write(str(i[0])+','+str(i[1])+'\\n')\n",
    "print('finished')\n",
    "fp.close()\n",
    "fp=open(dr+'v1_25052020_mean_IC_marked_second_half.csv','w')\n",
    "for i in mn_marked[int(len(mn_marked)/2):int(len(mn_marked))]:\n",
    "    fp.write(str(i[0])+','+str(i[1])+'\\n')\n",
    "print('finished')\n",
    "fp.close()"
   ]
  },
  {
   "cell_type": "code",
   "execution_count": 340,
   "metadata": {},
   "outputs": [
    {
     "name": "stdout",
     "output_type": "stream",
     "text": [
      "1500001\n"
     ]
    }
   ],
   "source": [
    "#exporting the values\n",
    "fp=open(dr+'v2_24052020_mean_a_marked.csv','r')\n",
    "hgf=[]\n",
    "for i in fp.read().split('\\n'):\n",
    "    hgf.append(i)\n",
    "print(len(hgf))    \n",
    "fp.close()"
   ]
  },
  {
   "cell_type": "code",
   "execution_count": 344,
   "metadata": {},
   "outputs": [
    {
     "data": {
      "text/plain": [
       "1500000"
      ]
     },
     "execution_count": 344,
     "metadata": {},
     "output_type": "execute_result"
    }
   ],
   "source": [
    "mn11=list(mn)\n",
    "len(mn11)"
   ]
  },
  {
   "cell_type": "code",
   "execution_count": 232,
   "metadata": {},
   "outputs": [
    {
     "name": "stdout",
     "output_type": "stream",
     "text": [
      "finished\n"
     ]
    }
   ],
   "source": [
    "#getting the value\n",
    "gf=[]\n",
    "for i in mn:\n",
    "    gf.append(i[0])\n",
    "print('finished')    "
   ]
  },
  {
   "cell_type": "code",
   "execution_count": 234,
   "metadata": {},
   "outputs": [
    {
     "name": "stdout",
     "output_type": "stream",
     "text": [
      "fiished\n"
     ]
    }
   ],
   "source": [
    "#counting the values\n",
    "hg=[]\n",
    "for i in ampl:\n",
    "        c=gf.count(i)\n",
    "        if c>1:\n",
    "            hg.append([i,c])\n",
    "print('finished')            "
   ]
  },
  {
   "cell_type": "code",
   "execution_count": 245,
   "metadata": {},
   "outputs": [
    {
     "name": "stdout",
     "output_type": "stream",
     "text": [
      "exported\n"
     ]
    }
   ],
   "source": [
    "#exporting the values\n",
    "fp=open('repeated_values.csv','w')\n",
    "for i in hg:\n",
    "    fp.write(i[0]+','+str(i[1])+'\\n')\n",
    "print('exported')\n",
    "fp.close()"
   ]
  },
  {
   "cell_type": "code",
   "execution_count": 214,
   "metadata": {},
   "outputs": [
    {
     "name": "stdout",
     "output_type": "stream",
     "text": [
      "finished\n"
     ]
    }
   ],
   "source": [
    "#exporting the values\n",
    "dr='dataset\\SCG_b6\\\\'\n",
    "fp=open(dr+'missing_values.csv','w')\n",
    "for i in h:\n",
    "    fp.write(i+'\\n')\n",
    "print('finished')\n",
    "fp.close()"
   ]
  },
  {
   "cell_type": "code",
   "execution_count": 93,
   "metadata": {},
   "outputs": [
    {
     "name": "stdout",
     "output_type": "stream",
     "text": [
      "array created\n",
      "50+\n",
      "100+\n",
      "150+\n",
      "200+\n",
      "250+\n",
      "n of values : 276\n"
     ]
    }
   ],
   "source": [
    "#creating the array and marking the values\n",
    "j=0\n",
    "ln=len(mean['data'])\n",
    "A_point=[]\n",
    "for i in range(ln):\n",
    "    A_point.append(0)\n",
    "l=[]    \n",
    "print('array created')\n",
    "a=0\n",
    "for i in range(ln):\n",
    "        if mean['data'][i] in list(amp['amplitude']):\n",
    "            A_point[i]=1\n",
    "            a+=1\n",
    "            if a%50==0:\n",
    "                print(str(a)+\"+\")\n",
    "print('n of values : '+str(a))            "
   ]
  },
  {
   "cell_type": "code",
   "execution_count": 111,
   "metadata": {},
   "outputs": [
    {
     "name": "stdout",
     "output_type": "stream",
     "text": [
      "276\n",
      "created\n",
      "17795\n",
      "1\n"
     ]
    }
   ],
   "source": [
    "#marking the values\n",
    "print(A_point.count(1))\n",
    "A=[]\n",
    "for i in range(1500000):\n",
    "    A.append(0)\n",
    "kl=list(index['index'])\n",
    "for i in kl:\n",
    "    A[i]=1\n",
    "    for jj in range(0,76):\n",
    "        A[jj+i]=1\n",
    "        A[jj-1]=1\n",
    "print('created')\n",
    "print(A.count(1))\n",
    "Ap=list(set(A).intersection(set(A_point)))\n",
    "print(Ap.count(1))"
   ]
  }
 ],
 "metadata": {
  "kernelspec": {
   "display_name": "Python 3",
   "language": "python",
   "name": "python3"
  },
  "language_info": {
   "codemirror_mode": {
    "name": "ipython",
    "version": 3
   },
   "file_extension": ".py",
   "mimetype": "text/x-python",
   "name": "python",
   "nbconvert_exporter": "python",
   "pygments_lexer": "ipython3",
   "version": "3.7.3"
  }
 },
 "nbformat": 4,
 "nbformat_minor": 2
}
